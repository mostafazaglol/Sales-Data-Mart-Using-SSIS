{
 "cells": [
  {
   "cell_type": "code",
   "execution_count": null,
   "id": "a07d9afb-ec22-43bb-b9d3-045e0d048f48",
   "metadata": {},
   "outputs": [],
   "source": [
    "import pandas as pd\n",
    "import os\n",
    "\n",
    "# Create date range\n",
    "dates = pd.date_range(start=\"2000-01-01\", end=\"2030-12-31\")\n",
    "\n",
    "# Format full_date as short date string (yyyy-mm-dd)\n",
    "full_date_formatted = dates.strftime('%Y-%m-%d')\n",
    "\n",
    "# Build DataFrame\n",
    "df = pd.DataFrame({\n",
    "    'full_date': full_date_formatted,  # Now it's string, no time portion\n",
    "    'date_key': dates.strftime('%Y%m%d').astype(int),\n",
    "    'calendar_year': dates.year,\n",
    "    'calendar_quarter': dates.quarter,\n",
    "    'calendar_month_num': dates.month,\n",
    "    'calendar_month_name': dates.strftime('%B')\n",
    "})\n",
    "\n",
    "# Save path (make sure folder exists)\n",
    "output_path = r\"E:\\courses\\Data Analysis\\5.BI\\1. SSIS\\2. Building sales data mart using ssis (Youtube)\\DimDate.xlsx\"\n",
    "\n",
    "# Export to Excel\n",
    "df.to_excel(output_path, index=False)\n",
    "\n",
    "print(f\"✅ Excel file saved to: {output_path}\")\n"
   ]
  }
 ],
 "metadata": {
  "kernelspec": {
   "display_name": "Python 3 (ipykernel)",
   "language": "python",
   "name": "python3"
  },
  "language_info": {
   "codemirror_mode": {
    "name": "ipython",
    "version": 3
   },
   "file_extension": ".py",
   "mimetype": "text/x-python",
   "name": "python",
   "nbconvert_exporter": "python",
   "pygments_lexer": "ipython3",
   "version": "3.12.7"
  }
 },
 "nbformat": 4,
 "nbformat_minor": 5
}
